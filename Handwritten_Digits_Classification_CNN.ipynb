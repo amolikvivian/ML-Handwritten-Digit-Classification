{
  "nbformat": 4,
  "nbformat_minor": 0,
  "metadata": {
    "colab": {
      "name": "Handwritten-Digits-Classification-CNN",
      "provenance": [],
      "authorship_tag": "ABX9TyNpEv1dx5OLQWTR3EZz9Ihz"
    },
    "kernelspec": {
      "name": "python3",
      "display_name": "Python 3"
    }
  },
  "cells": [
    {
      "cell_type": "code",
      "metadata": {
        "id": "jqYEnOHTqtU8",
        "colab_type": "code",
        "colab": {}
      },
      "source": [
        "#Classifying Handwritten Digits from MNIST Dataset using CNN"
      ],
      "execution_count": 0,
      "outputs": []
    },
    {
      "cell_type": "code",
      "metadata": {
        "id": "Mz-UQl6NvHk4",
        "colab_type": "code",
        "colab": {}
      },
      "source": [
        "#Importing Libraries\n",
        "\n",
        "import numpy as np\n",
        "import matplotlib.pyplot as plt\n",
        "\n",
        "from keras.datasets import mnist\n",
        "from keras.models import Sequential\n",
        "from keras.layers import Dense, Conv2D, Flatten\n",
        "from keras.utils import to_categorical\n"
      ],
      "execution_count": 0,
      "outputs": []
    },
    {
      "cell_type": "code",
      "metadata": {
        "id": "uhgWwch3vlt7",
        "colab_type": "code",
        "outputId": "4f301aed-372b-4ffa-e007-b85b9bdb01b7",
        "colab": {
          "base_uri": "https://localhost:8080/",
          "height": 51
        }
      },
      "source": [
        "#Loading Dataset\n",
        "(x_train, y_train), (x_test, y_test) = mnist.load_data() \n",
        "\n",
        "#Shape of image\n",
        "print(x_train.shape) \n",
        "print(x_test.shape)"
      ],
      "execution_count": 0,
      "outputs": [
        {
          "output_type": "stream",
          "text": [
            "(60000, 28, 28)\n",
            "(10000, 28, 28)\n"
          ],
          "name": "stdout"
        }
      ]
    },
    {
      "cell_type": "code",
      "metadata": {
        "id": "HGFXeJHav-5t",
        "colab_type": "code",
        "outputId": "1cf8bcf2-9a3f-4da1-d235-415c53b26bc9",
        "colab": {
          "base_uri": "https://localhost:8080/",
          "height": 282
        }
      },
      "source": [
        "#Displaying image at index = 0 as picture\n",
        "plt.imshow(x_train[0], cmap = 'gray')"
      ],
      "execution_count": 0,
      "outputs": [
        {
          "output_type": "execute_result",
          "data": {
            "text/plain": [
              "<matplotlib.image.AxesImage at 0x7f4627b70f28>"
            ]
          },
          "metadata": {
            "tags": []
          },
          "execution_count": 30
        },
        {
          "output_type": "display_data",
          "data": {
            "image/png": "[encoded data removed]",
            "text/plain": [
              "<Figure size 432x288 with 1 Axes>"
            ]
          },
          "metadata": {
            "tags": [],
            "needs_background": "light"
          }
        }
      ]
    },
    {
      "cell_type": "code",
      "metadata": {
        "id": "l9ZvYEaFwYoT",
        "colab_type": "code",
        "colab": {}
      },
      "source": [
        "#Resizing image to fit model\n",
        "x_train = x_train/255\n",
        "x_test = x_test/255"
      ],
      "execution_count": 0,
      "outputs": []
    },
    {
      "cell_type": "code",
      "metadata": {
        "id": "Y4r0swFMxbtc",
        "colab_type": "code",
        "colab": {}
      },
      "source": [
        "#One-Hot Encoding\n",
        "y_train_one_hot = to_categorical(y_train)\n",
        "y_test_one_hot = to_categorical(y_test)"
      ],
      "execution_count": 0,
      "outputs": []
    },
    {
      "cell_type": "code",
      "metadata": {
        "id": "shfOq03Vx63U",
        "colab_type": "code",
        "colab": {}
      },
      "source": [
        "#Building CNN Model\n",
        "model = Sequential()\n",
        "\n",
        "#First Layer\n",
        "model.add(Conv2D(64, 3, activation = 'relu', input_shape = (28, 28, 1)))\n",
        "\n",
        "#Second Layer\n",
        "model.add(Conv2D(32, 3, activation = 'relu'))\n",
        "\n",
        "model.add(Flatten())\n",
        "model.add(Dense(10, activation = 'softmax'))"
      ],
      "execution_count": 0,
      "outputs": []
    },
    {
      "cell_type": "code",
      "metadata": {
        "id": "cJ9Mdvd5yinF",
        "colab_type": "code",
        "colab": {}
      },
      "source": [
        "#Compiling Model\n",
        "model.compile(optimizer = 'adam',\n",
        "              loss = 'categorical_crossentropy',\n",
        "              metrics = ['accuracy'])"
      ],
      "execution_count": 0,
      "outputs": []
    },
    {
      "cell_type": "code",
      "metadata": {
        "id": "Hcp1s_5pytzf",
        "colab_type": "code",
        "outputId": "90a5d23b-8b93-4028-fd30-710fd8482a69",
        "colab": {
          "base_uri": "https://localhost:8080/",
          "height": 136
        }
      },
      "source": [
        "#Training Model\n",
        "hist = model.fit(x_train, y_train_one_hot,\n",
        "                 validation_data = (x_test, y_test_one_hot),\n",
        "                 epochs = 3)"
      ],
      "execution_count": 0,
      "outputs": [
        {
          "output_type": "stream",
          "text": [
            "Train on 60000 samples, validate on 10000 samples\n",
            "Epoch 1/3\n",
            "60000/60000 [==============================] - 160s 3ms/step - loss: 0.0725 - accuracy: 0.9781 - val_loss: 0.0565 - val_accuracy: 0.9822\n",
            "Epoch 2/3\n",
            "60000/60000 [==============================] - 159s 3ms/step - loss: 0.0415 - accuracy: 0.9872 - val_loss: 0.0412 - val_accuracy: 0.9865\n",
            "Epoch 3/3\n",
            "60000/60000 [==============================] - 159s 3ms/step - loss: 0.0283 - accuracy: 0.9913 - val_loss: 0.0405 - val_accuracy: 0.9880\n"
          ],
          "name": "stdout"
        }
      ]
    },
    {
      "cell_type": "code",
      "metadata": {
        "id": "k9aBLXd9zEVP",
        "colab_type": "code",
        "outputId": "9e19bc0e-8c2e-443f-b920-99135e4eb19f",
        "colab": {
          "base_uri": "https://localhost:8080/",
          "height": 295
        }
      },
      "source": [
        "#Visualizing Model Accuracy\n",
        "\n",
        "plt.title('Model Accuracy')\n",
        "plt.plot(hist.history['accuracy'])\n",
        "plt.plot(hist.history['val_accuracy'])\n",
        "plt.xlabel('Epoch')\n",
        "plt.ylabel('Accuracy')\n",
        "plt.legend(['Train', 'Val'])\n",
        "plt.show()"
      ],
      "execution_count": 0,
      "outputs": [
        {
          "output_type": "display_data",
          "data": {
            "image/png": "[encoded data removed]",
            "text/plain": [
              "<Figure size 432x288 with 1 Axes>"
            ]
          },
          "metadata": {
            "tags": [],
            "needs_background": "light"
          }
        }
      ]
    },
    {
      "cell_type": "code",
      "metadata": {
        "id": "gjIilJO22Si-",
        "colab_type": "code",
        "outputId": "7864d83f-82d7-4ddf-8f9b-58b6eb3f86fd",
        "colab": {
          "base_uri": "https://localhost:8080/",
          "height": 119
        }
      },
      "source": [
        "#Predictions for first 3 images of test images\n",
        "predictions = model.predict(x_test[:3])\n",
        "print(predictions)"
      ],
      "execution_count": 0,
      "outputs": [
        {
          "output_type": "stream",
          "text": [
            "[[2.2754440e-10 3.7687206e-14 3.5466123e-09 5.0978524e-05 1.3220323e-14\n",
            "  1.4133027e-10 2.8345140e-19 9.9994898e-01 2.9028657e-09 2.5100045e-08]\n",
            " [2.7233005e-09 7.2868806e-07 9.9999893e-01 1.2304288e-10 3.8425350e-13\n",
            "  2.3004695e-12 4.6646242e-08 6.1009005e-15 3.0010349e-07 1.0136561e-12]\n",
            " [7.2283120e-07 9.9958605e-01 2.3949146e-05 2.4810327e-06 7.6228913e-05\n",
            "  1.8910963e-05 3.8710355e-06 2.2535309e-05 2.6324356e-04 2.0028251e-06]]\n"
          ],
          "name": "stdout"
        }
      ]
    },
    {
      "cell_type": "code",
      "metadata": {
        "id": "Tt5eZJrw2wvA",
        "colab_type": "code",
        "outputId": "a614e93f-bc50-4c5f-9f1f-1a915b09bf51",
        "colab": {
          "base_uri": "https://localhost:8080/",
          "height": 34
        }
      },
      "source": [
        "#Labels for first 3 images of test images\n",
        "print(y_test[:3])"
      ],
      "execution_count": 0,
      "outputs": [
        {
          "output_type": "stream",
          "text": [
            "[7 2 1]\n"
          ],
          "name": "stdout"
        }
      ]
    },
    {
      "cell_type": "code",
      "metadata": {
        "id": "bMzfa6N-25UG",
        "colab_type": "code",
        "outputId": "955e643b-e650-4377-bfa4-d0ab916f6de1",
        "colab": {
          "base_uri": "https://localhost:8080/",
          "height": 34
        }
      },
      "source": [
        "#Printing prediction of model with labels of first 3 test images\n",
        "print(np.argmax(predictions, axis = 1))"
      ],
      "execution_count": 0,
      "outputs": [
        {
          "output_type": "stream",
          "text": [
            "[7 2 1]\n"
          ],
          "name": "stdout"
        }
      ]
    },
    {
      "cell_type": "code",
      "metadata": {
        "id": "IJSeW3iV3JM-",
        "colab_type": "code",
        "outputId": "a6117b2a-db69-49fe-9f56-2797ed1ba3d2",
        "colab": {
          "base_uri": "https://localhost:8080/",
          "height": 761
        }
      },
      "source": [
        "#Display first 3 test images\n",
        "for i in range (0, 3):\n",
        "  img = x_test[i]\n",
        "  img = np.array(img, dtype = 'float')\n",
        "  re_img = img.reshape((28,28))\n",
        "  plt.imshow(re_img, cmap = 'gray')\n",
        "  plt.show()"
      ],
      "execution_count": 0,
      "outputs": [
        {
          "output_type": "display_data",
          "data": {
            "image/png": "[encoded data removed]",
            "text/plain": [
              "<Figure size 432x288 with 1 Axes>"
            ]
          },
          "metadata": {
            "tags": [],
            "needs_background": "light"
          }
        },
        {
          "output_type": "display_data",
          "data": {
            "image/png": "[encoded data removed]",
            "text/plain": [
              "<Figure size 432x288 with 1 Axes>"
            ]
          },
          "metadata": {
            "tags": [],
            "needs_background": "light"
          }
        },
        {
          "output_type": "display_data",
          "data": {
            "image/png": "[encoded data removed]",
            "text/plain": [
              "<Figure size 432x288 with 1 Axes>"
            ]
          },
          "metadata": {
            "tags": [],
            "needs_background": "light"
          }
        }
      ]
    },
    {
      "cell_type": "code",
      "metadata": {
        "id": "Lxqr9XVa3qFG",
        "colab_type": "code",
        "colab": {}
      },
      "source": [
        ""
      ],
      "execution_count": 0,
      "outputs": []
    }
  ]
}